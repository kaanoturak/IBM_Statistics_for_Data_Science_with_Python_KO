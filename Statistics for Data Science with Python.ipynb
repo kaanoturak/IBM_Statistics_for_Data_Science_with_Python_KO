{
 "cells": [
  {
   "cell_type": "markdown",
   "id": "520a0b42-1190-43c5-b8ed-c4ff766a0ea1",
   "metadata": {},
   "source": [
    "# Final Assignment - Statistics for Data Science with Python"
   ]
  },
  {
   "cell_type": "code",
   "execution_count": 81,
   "id": "de8a2a74-67fe-4334-9870-39ea6cff32f0",
   "metadata": {
    "tags": []
   },
   "outputs": [],
   "source": [
    "import pandas as pd \n",
    "import matplotlib.pyplot as plt\n",
    "import scipy.stats as stats\n",
    "import statsmodels.api as sm\n"
   ]
  },
  {
   "cell_type": "code",
   "execution_count": 82,
   "id": "b72c3c39-7a6c-4924-9ff3-b19d27ab7837",
   "metadata": {
    "tags": []
   },
   "outputs": [],
   "source": [
    "boston_url = 'https://cf-courses-data.s3.us.cloud-object-storage.appdomain.cloud/IBMDeveloperSkillsNetwork-ST0151EN-SkillsNetwork/labs/boston_housing.csv'\n",
    "boston_df = pd.read_csv(boston_url)  # Now you can use pd to read the CSV file\n"
   ]
  },
  {
   "cell_type": "code",
   "execution_count": 83,
   "id": "d2d28d09-74c1-4f41-875d-7a3342139d56",
   "metadata": {
    "tags": []
   },
   "outputs": [
    {
     "data": {
      "text/html": [
       "<div>\n",
       "<style scoped>\n",
       "    .dataframe tbody tr th:only-of-type {\n",
       "        vertical-align: middle;\n",
       "    }\n",
       "\n",
       "    .dataframe tbody tr th {\n",
       "        vertical-align: top;\n",
       "    }\n",
       "\n",
       "    .dataframe thead th {\n",
       "        text-align: right;\n",
       "    }\n",
       "</style>\n",
       "<table border=\"1\" class=\"dataframe\">\n",
       "  <thead>\n",
       "    <tr style=\"text-align: right;\">\n",
       "      <th></th>\n",
       "      <th>Unnamed: 0</th>\n",
       "      <th>CRIM</th>\n",
       "      <th>ZN</th>\n",
       "      <th>INDUS</th>\n",
       "      <th>CHAS</th>\n",
       "      <th>NOX</th>\n",
       "      <th>RM</th>\n",
       "      <th>AGE</th>\n",
       "      <th>DIS</th>\n",
       "      <th>RAD</th>\n",
       "      <th>TAX</th>\n",
       "      <th>PTRATIO</th>\n",
       "      <th>LSTAT</th>\n",
       "      <th>MEDV</th>\n",
       "    </tr>\n",
       "  </thead>\n",
       "  <tbody>\n",
       "    <tr>\n",
       "      <th>0</th>\n",
       "      <td>0</td>\n",
       "      <td>0.00632</td>\n",
       "      <td>18.0</td>\n",
       "      <td>2.31</td>\n",
       "      <td>0.0</td>\n",
       "      <td>0.538</td>\n",
       "      <td>6.575</td>\n",
       "      <td>65.2</td>\n",
       "      <td>4.0900</td>\n",
       "      <td>1.0</td>\n",
       "      <td>296.0</td>\n",
       "      <td>15.3</td>\n",
       "      <td>4.98</td>\n",
       "      <td>24.0</td>\n",
       "    </tr>\n",
       "    <tr>\n",
       "      <th>1</th>\n",
       "      <td>1</td>\n",
       "      <td>0.02731</td>\n",
       "      <td>0.0</td>\n",
       "      <td>7.07</td>\n",
       "      <td>0.0</td>\n",
       "      <td>0.469</td>\n",
       "      <td>6.421</td>\n",
       "      <td>78.9</td>\n",
       "      <td>4.9671</td>\n",
       "      <td>2.0</td>\n",
       "      <td>242.0</td>\n",
       "      <td>17.8</td>\n",
       "      <td>9.14</td>\n",
       "      <td>21.6</td>\n",
       "    </tr>\n",
       "    <tr>\n",
       "      <th>2</th>\n",
       "      <td>2</td>\n",
       "      <td>0.02729</td>\n",
       "      <td>0.0</td>\n",
       "      <td>7.07</td>\n",
       "      <td>0.0</td>\n",
       "      <td>0.469</td>\n",
       "      <td>7.185</td>\n",
       "      <td>61.1</td>\n",
       "      <td>4.9671</td>\n",
       "      <td>2.0</td>\n",
       "      <td>242.0</td>\n",
       "      <td>17.8</td>\n",
       "      <td>4.03</td>\n",
       "      <td>34.7</td>\n",
       "    </tr>\n",
       "    <tr>\n",
       "      <th>3</th>\n",
       "      <td>3</td>\n",
       "      <td>0.03237</td>\n",
       "      <td>0.0</td>\n",
       "      <td>2.18</td>\n",
       "      <td>0.0</td>\n",
       "      <td>0.458</td>\n",
       "      <td>6.998</td>\n",
       "      <td>45.8</td>\n",
       "      <td>6.0622</td>\n",
       "      <td>3.0</td>\n",
       "      <td>222.0</td>\n",
       "      <td>18.7</td>\n",
       "      <td>2.94</td>\n",
       "      <td>33.4</td>\n",
       "    </tr>\n",
       "    <tr>\n",
       "      <th>4</th>\n",
       "      <td>4</td>\n",
       "      <td>0.06905</td>\n",
       "      <td>0.0</td>\n",
       "      <td>2.18</td>\n",
       "      <td>0.0</td>\n",
       "      <td>0.458</td>\n",
       "      <td>7.147</td>\n",
       "      <td>54.2</td>\n",
       "      <td>6.0622</td>\n",
       "      <td>3.0</td>\n",
       "      <td>222.0</td>\n",
       "      <td>18.7</td>\n",
       "      <td>5.33</td>\n",
       "      <td>36.2</td>\n",
       "    </tr>\n",
       "    <tr>\n",
       "      <th>5</th>\n",
       "      <td>5</td>\n",
       "      <td>0.02985</td>\n",
       "      <td>0.0</td>\n",
       "      <td>2.18</td>\n",
       "      <td>0.0</td>\n",
       "      <td>0.458</td>\n",
       "      <td>6.430</td>\n",
       "      <td>58.7</td>\n",
       "      <td>6.0622</td>\n",
       "      <td>3.0</td>\n",
       "      <td>222.0</td>\n",
       "      <td>18.7</td>\n",
       "      <td>5.21</td>\n",
       "      <td>28.7</td>\n",
       "    </tr>\n",
       "    <tr>\n",
       "      <th>6</th>\n",
       "      <td>6</td>\n",
       "      <td>0.08829</td>\n",
       "      <td>12.5</td>\n",
       "      <td>7.87</td>\n",
       "      <td>0.0</td>\n",
       "      <td>0.524</td>\n",
       "      <td>6.012</td>\n",
       "      <td>66.6</td>\n",
       "      <td>5.5605</td>\n",
       "      <td>5.0</td>\n",
       "      <td>311.0</td>\n",
       "      <td>15.2</td>\n",
       "      <td>12.43</td>\n",
       "      <td>22.9</td>\n",
       "    </tr>\n",
       "    <tr>\n",
       "      <th>7</th>\n",
       "      <td>7</td>\n",
       "      <td>0.14455</td>\n",
       "      <td>12.5</td>\n",
       "      <td>7.87</td>\n",
       "      <td>0.0</td>\n",
       "      <td>0.524</td>\n",
       "      <td>6.172</td>\n",
       "      <td>96.1</td>\n",
       "      <td>5.9505</td>\n",
       "      <td>5.0</td>\n",
       "      <td>311.0</td>\n",
       "      <td>15.2</td>\n",
       "      <td>19.15</td>\n",
       "      <td>27.1</td>\n",
       "    </tr>\n",
       "    <tr>\n",
       "      <th>8</th>\n",
       "      <td>8</td>\n",
       "      <td>0.21124</td>\n",
       "      <td>12.5</td>\n",
       "      <td>7.87</td>\n",
       "      <td>0.0</td>\n",
       "      <td>0.524</td>\n",
       "      <td>5.631</td>\n",
       "      <td>100.0</td>\n",
       "      <td>6.0821</td>\n",
       "      <td>5.0</td>\n",
       "      <td>311.0</td>\n",
       "      <td>15.2</td>\n",
       "      <td>29.93</td>\n",
       "      <td>16.5</td>\n",
       "    </tr>\n",
       "    <tr>\n",
       "      <th>9</th>\n",
       "      <td>9</td>\n",
       "      <td>0.17004</td>\n",
       "      <td>12.5</td>\n",
       "      <td>7.87</td>\n",
       "      <td>0.0</td>\n",
       "      <td>0.524</td>\n",
       "      <td>6.004</td>\n",
       "      <td>85.9</td>\n",
       "      <td>6.5921</td>\n",
       "      <td>5.0</td>\n",
       "      <td>311.0</td>\n",
       "      <td>15.2</td>\n",
       "      <td>17.10</td>\n",
       "      <td>18.9</td>\n",
       "    </tr>\n",
       "  </tbody>\n",
       "</table>\n",
       "</div>"
      ],
      "text/plain": [
       "   Unnamed: 0     CRIM    ZN  INDUS  CHAS    NOX     RM    AGE     DIS  RAD  \\\n",
       "0           0  0.00632  18.0   2.31   0.0  0.538  6.575   65.2  4.0900  1.0   \n",
       "1           1  0.02731   0.0   7.07   0.0  0.469  6.421   78.9  4.9671  2.0   \n",
       "2           2  0.02729   0.0   7.07   0.0  0.469  7.185   61.1  4.9671  2.0   \n",
       "3           3  0.03237   0.0   2.18   0.0  0.458  6.998   45.8  6.0622  3.0   \n",
       "4           4  0.06905   0.0   2.18   0.0  0.458  7.147   54.2  6.0622  3.0   \n",
       "5           5  0.02985   0.0   2.18   0.0  0.458  6.430   58.7  6.0622  3.0   \n",
       "6           6  0.08829  12.5   7.87   0.0  0.524  6.012   66.6  5.5605  5.0   \n",
       "7           7  0.14455  12.5   7.87   0.0  0.524  6.172   96.1  5.9505  5.0   \n",
       "8           8  0.21124  12.5   7.87   0.0  0.524  5.631  100.0  6.0821  5.0   \n",
       "9           9  0.17004  12.5   7.87   0.0  0.524  6.004   85.9  6.5921  5.0   \n",
       "\n",
       "     TAX  PTRATIO  LSTAT  MEDV  \n",
       "0  296.0     15.3   4.98  24.0  \n",
       "1  242.0     17.8   9.14  21.6  \n",
       "2  242.0     17.8   4.03  34.7  \n",
       "3  222.0     18.7   2.94  33.4  \n",
       "4  222.0     18.7   5.33  36.2  \n",
       "5  222.0     18.7   5.21  28.7  \n",
       "6  311.0     15.2  12.43  22.9  \n",
       "7  311.0     15.2  19.15  27.1  \n",
       "8  311.0     15.2  29.93  16.5  \n",
       "9  311.0     15.2  17.10  18.9  "
      ]
     },
     "execution_count": 83,
     "metadata": {},
     "output_type": "execute_result"
    }
   ],
   "source": [
    "boston_df.head(10)  # Display the first 10 rows\n"
   ]
  },
  {
   "cell_type": "markdown",
   "id": "27f8776a-096b-4996-b6cd-dced7e5b940c",
   "metadata": {},
   "source": [
    "# Generate Descriptive Statistics and Visualizations"
   ]
  },
  {
   "cell_type": "markdown",
   "id": "d150d5a5-fd80-4e58-b736-914f1e6035ce",
   "metadata": {},
   "source": [
    "## For the \"Median value of owner-occupied homes\" provide a boxplot"
   ]
  },
  {
   "cell_type": "code",
   "execution_count": 84,
   "id": "98006f6d-6240-4a42-8347-a145aca75cb0",
   "metadata": {
    "tags": []
   },
   "outputs": [
    {
     "data": {
      "text/plain": [
       "Text(0.5, 1.0, 'Owner-occupied homes')"
      ]
     },
     "execution_count": 84,
     "metadata": {},
     "output_type": "execute_result"
    },
    {
     "data": {
      "image/png": "[encoded data removed]",
      "text/plain": [
       "<Figure size 640x480 with 1 Axes>"
      ]
     },
     "metadata": {},
     "output_type": "display_data"
    }
   ],
   "source": [
    "ax = sns.boxplot(y = 'MEDV', data = boston_df)\n",
    "ax.set_title('Owner-occupied homes')"
   ]
  },
  {
   "cell_type": "markdown",
   "id": "c51c117a-8849-4bf9-8c62-717039d8facf",
   "metadata": {
    "tags": []
   },
   "source": [
    "## Provide a  bar plot for the Charles river variable"
   ]
  },
  {
   "cell_type": "code",
   "execution_count": 86,
   "id": "5f98f7cf-ae93-4a60-a281-27fb27503021",
   "metadata": {
    "tags": []
   },
   "outputs": [
    {
     "data": {
      "image/png": "[encoded data removed]",
      "text/plain": [
       "<Figure size 600x400 with 1 Axes>"
      ]
     },
     "metadata": {},
     "output_type": "display_data"
    }
   ],
   "source": [
    "\n",
    "chas_counts = boston_df['CHAS'].value_counts()\n",
    "\n",
    "\n",
    "plt.figure(figsize=(6, 4))\n",
    "chas_counts.plot(kind='bar', color='#E5E500')\n",
    "plt.title('Bar Plot of Charles River (CHAS)')\n",
    "plt.xlabel('CHAS')\n",
    "plt.ylabel('Count')\n",
    "plt.xticks(rotation=0)\n",
    "plt.show()\n"
   ]
  },
  {
   "cell_type": "markdown",
   "id": "0d972b49-8ffb-4751-841e-f3215faa588e",
   "metadata": {
    "tags": []
   },
   "source": [
    "## Provide a boxplot for the MEDV variable vs the AGE variable. (0-35, 35-70, 70+ years old)"
   ]
  },
  {
   "cell_type": "code",
   "execution_count": 87,
   "id": "8b2864ff-d74a-44b1-9e12-60c89964ddbd",
   "metadata": {
    "tags": []
   },
   "outputs": [
    {
     "data": {
      "image/png": "[encoded data removed]",
      "text/plain": [
       "<Figure size 1000x600 with 1 Axes>"
      ]
     },
     "metadata": {},
     "output_type": "display_data"
    }
   ],
   "source": [
    "# Define the AGE groups using the loc function\n",
    "boston_df.loc[(boston_df['AGE'] <= 35), 'AGE_GROUP'] = '35 years and younger'\n",
    "boston_df.loc[(boston_df['AGE'] > 35) & (boston_df['AGE'] <= 70), 'AGE_GROUP'] = 'between 35 and 70 years'\n",
    "boston_df.loc[(boston_df['AGE'] > 70), 'AGE_GROUP'] = '70 years and older'\n",
    "\n",
    "plt.figure(figsize=(10, 6))\n",
    "plt.title('Boxplot of MEDV vs AGE_GROUP')\n",
    "plt.xlabel('MEDV')\n",
    "plt.ylabel('AGE_GROUP')\n",
    "\n",
    "colors = ['#f44336', '#a64d79', '#2986cc']\n",
    "\n",
    "for i, age_group in enumerate(age_labels):\n",
    "    subset_df = boston_df[boston_df['AGE_GROUP'] == age_group]\n",
    "    plt.boxplot(subset_df['MEDV'], vert=False, positions=[i], labels=[age_group], patch_artist=True, boxprops=dict(facecolor=colors[i]))\n",
    "\n",
    "plt.yticks(range(len(age_labels)), age_labels)  # Set y-axis labels\n",
    "plt.show()\n"
   ]
  },
  {
   "cell_type": "markdown",
   "id": "c9b036b7-be46-4329-a8e0-d96f9533011f",
   "metadata": {
    "tags": []
   },
   "source": [
    "## Provide a scatter plot to show the relationship between Nitric oxide concentrations and the proportion of non-retail business acres per town. What can you say about the relationship?"
   ]
  },
  {
   "cell_type": "code",
   "execution_count": 59,
   "id": "851f87f1-cc48-4343-9db6-a190a9c2aaa8",
   "metadata": {
    "tags": []
   },
   "outputs": [
    {
     "data": {
      "image/png": "[encoded data removed]",
      "text/plain": [
       "<Figure size 800x600 with 1 Axes>"
      ]
     },
     "metadata": {},
     "output_type": "display_data"
    }
   ],
   "source": [
    "plt.figure(figsize=(8, 6))\n",
    "plt.scatter(boston_df['INDUS'], boston_df['NOX'], alpha=0.5, color='#46db46')\n",
    "plt.title('Nitric Oxide Concentrations vs. Non-Retail Business Acres')\n",
    "plt.ylabel('NOX')\n",
    "plt.xlabel('INDUS')\n",
    "plt.grid(True)\n",
    "\n",
    "plt.show()\n"
   ]
  },
  {
   "cell_type": "raw",
   "id": "4453ee07-4376-4ade-9bdc-0798d87b87ed",
   "metadata": {},
   "source": [
    "The scatter plot illustrates the relationship between Nitric oxide concentration (NOX) andthe proportion of non-retail business acres per town (INDUS) in the Boston Housing dataset.\n",
    "It suggests a moderate positive correlation, indicating that as INDUS increases, NOX tends to increase as well, though there is notable variation in NOX at different levels of INDUS.\n"
   ]
  },
  {
   "cell_type": "markdown",
   "id": "1c244a1b-04a2-4a47-b858-fd747981e643",
   "metadata": {},
   "source": [
    "## Create a histogram for the pupil to teacher ratio variable"
   ]
  },
  {
   "cell_type": "code",
   "execution_count": 60,
   "id": "29981c0c-d658-40b5-8b56-93091e6c7943",
   "metadata": {
    "tags": []
   },
   "outputs": [
    {
     "data": {
      "image/png": "[encoded data removed]",
      "text/plain": [
       "<Figure size 1000x600 with 1 Axes>"
      ]
     },
     "metadata": {},
     "output_type": "display_data"
    }
   ],
   "source": [
    "plt.figure(figsize=(10,6))\n",
    "plt.hist(boston_df['PTRATIO'], bins=30, color='skyblue', edgecolor='black')\n",
    "plt.title('Pupil-Teacher Ratio')\n",
    "plt.xlabel('P-T Ratio')\n",
    "plt.ylabel('Frequency')\n",
    "plt.grid(axis='y')\n",
    "\n",
    "plt.show()"
   ]
  },
  {
   "cell_type": "markdown",
   "id": "53194eb1-280a-4182-a1cc-4bbdb6db23b8",
   "metadata": {
    "tags": []
   },
   "source": [
    "## Use the appropriate tests to answer the questions provided."
   ]
  },
  {
   "cell_type": "markdown",
   "id": "7c62f242-519a-40a9-89bb-dd3e4eac23e7",
   "metadata": {},
   "source": [
    "### Is there a significant difference in median value of houses bounded by the Charles river or not? (T-test for independent samples)"
   ]
  },
  {
   "cell_type": "code",
   "execution_count": 71,
   "id": "93c7cef0-62c0-4fa6-a0b6-ef7b82e265dc",
   "metadata": {
    "tags": []
   },
   "outputs": [
    {
     "data": {
      "text/html": [
       "<div>\n",
       "<style scoped>\n",
       "    .dataframe tbody tr th:only-of-type {\n",
       "        vertical-align: middle;\n",
       "    }\n",
       "\n",
       "    .dataframe tbody tr th {\n",
       "        vertical-align: top;\n",
       "    }\n",
       "\n",
       "    .dataframe thead th {\n",
       "        text-align: right;\n",
       "    }\n",
       "</style>\n",
       "<table border=\"1\" class=\"dataframe\">\n",
       "  <thead>\n",
       "    <tr style=\"text-align: right;\">\n",
       "      <th></th>\n",
       "      <th>Unnamed: 0</th>\n",
       "      <th>CRIM</th>\n",
       "      <th>ZN</th>\n",
       "      <th>INDUS</th>\n",
       "      <th>CHAS</th>\n",
       "      <th>NOX</th>\n",
       "      <th>RM</th>\n",
       "      <th>AGE</th>\n",
       "      <th>DIS</th>\n",
       "      <th>RAD</th>\n",
       "      <th>TAX</th>\n",
       "      <th>PTRATIO</th>\n",
       "      <th>LSTAT</th>\n",
       "      <th>MEDV</th>\n",
       "      <th>AGE_GROUP</th>\n",
       "    </tr>\n",
       "  </thead>\n",
       "  <tbody>\n",
       "    <tr>\n",
       "      <th>0</th>\n",
       "      <td>0</td>\n",
       "      <td>0.00632</td>\n",
       "      <td>18.0</td>\n",
       "      <td>2.31</td>\n",
       "      <td>0.0</td>\n",
       "      <td>0.538</td>\n",
       "      <td>6.575</td>\n",
       "      <td>65.2</td>\n",
       "      <td>4.0900</td>\n",
       "      <td>1.0</td>\n",
       "      <td>296.0</td>\n",
       "      <td>15.3</td>\n",
       "      <td>4.98</td>\n",
       "      <td>24.0</td>\n",
       "      <td>between 35 and 70 years</td>\n",
       "    </tr>\n",
       "    <tr>\n",
       "      <th>1</th>\n",
       "      <td>1</td>\n",
       "      <td>0.02731</td>\n",
       "      <td>0.0</td>\n",
       "      <td>7.07</td>\n",
       "      <td>0.0</td>\n",
       "      <td>0.469</td>\n",
       "      <td>6.421</td>\n",
       "      <td>78.9</td>\n",
       "      <td>4.9671</td>\n",
       "      <td>2.0</td>\n",
       "      <td>242.0</td>\n",
       "      <td>17.8</td>\n",
       "      <td>9.14</td>\n",
       "      <td>21.6</td>\n",
       "      <td>70 years and older</td>\n",
       "    </tr>\n",
       "    <tr>\n",
       "      <th>2</th>\n",
       "      <td>2</td>\n",
       "      <td>0.02729</td>\n",
       "      <td>0.0</td>\n",
       "      <td>7.07</td>\n",
       "      <td>0.0</td>\n",
       "      <td>0.469</td>\n",
       "      <td>7.185</td>\n",
       "      <td>61.1</td>\n",
       "      <td>4.9671</td>\n",
       "      <td>2.0</td>\n",
       "      <td>242.0</td>\n",
       "      <td>17.8</td>\n",
       "      <td>4.03</td>\n",
       "      <td>34.7</td>\n",
       "      <td>between 35 and 70 years</td>\n",
       "    </tr>\n",
       "    <tr>\n",
       "      <th>3</th>\n",
       "      <td>3</td>\n",
       "      <td>0.03237</td>\n",
       "      <td>0.0</td>\n",
       "      <td>2.18</td>\n",
       "      <td>0.0</td>\n",
       "      <td>0.458</td>\n",
       "      <td>6.998</td>\n",
       "      <td>45.8</td>\n",
       "      <td>6.0622</td>\n",
       "      <td>3.0</td>\n",
       "      <td>222.0</td>\n",
       "      <td>18.7</td>\n",
       "      <td>2.94</td>\n",
       "      <td>33.4</td>\n",
       "      <td>between 35 and 70 years</td>\n",
       "    </tr>\n",
       "    <tr>\n",
       "      <th>4</th>\n",
       "      <td>4</td>\n",
       "      <td>0.06905</td>\n",
       "      <td>0.0</td>\n",
       "      <td>2.18</td>\n",
       "      <td>0.0</td>\n",
       "      <td>0.458</td>\n",
       "      <td>7.147</td>\n",
       "      <td>54.2</td>\n",
       "      <td>6.0622</td>\n",
       "      <td>3.0</td>\n",
       "      <td>222.0</td>\n",
       "      <td>18.7</td>\n",
       "      <td>5.33</td>\n",
       "      <td>36.2</td>\n",
       "      <td>between 35 and 70 years</td>\n",
       "    </tr>\n",
       "  </tbody>\n",
       "</table>\n",
       "</div>"
      ],
      "text/plain": [
       "   Unnamed: 0     CRIM    ZN  INDUS  CHAS    NOX     RM   AGE     DIS  RAD  \\\n",
       "0           0  0.00632  18.0   2.31   0.0  0.538  6.575  65.2  4.0900  1.0   \n",
       "1           1  0.02731   0.0   7.07   0.0  0.469  6.421  78.9  4.9671  2.0   \n",
       "2           2  0.02729   0.0   7.07   0.0  0.469  7.185  61.1  4.9671  2.0   \n",
       "3           3  0.03237   0.0   2.18   0.0  0.458  6.998  45.8  6.0622  3.0   \n",
       "4           4  0.06905   0.0   2.18   0.0  0.458  7.147  54.2  6.0622  3.0   \n",
       "\n",
       "     TAX  PTRATIO  LSTAT  MEDV                AGE_GROUP  \n",
       "0  296.0     15.3   4.98  24.0  between 35 and 70 years  \n",
       "1  242.0     17.8   9.14  21.6       70 years and older  \n",
       "2  242.0     17.8   4.03  34.7  between 35 and 70 years  \n",
       "3  222.0     18.7   2.94  33.4  between 35 and 70 years  \n",
       "4  222.0     18.7   5.33  36.2  between 35 and 70 years  "
      ]
     },
     "execution_count": 71,
     "metadata": {},
     "output_type": "execute_result"
    }
   ],
   "source": [
    "boston_df.head()"
   ]
  },
  {
   "cell_type": "code",
   "execution_count": 66,
   "id": "314ed2d9-0428-475e-8c62-430ebe50899c",
   "metadata": {
    "tags": []
   },
   "outputs": [
    {
     "name": "stdout",
     "output_type": "stream",
     "text": [
      "Test Statistic: 3.996437466090509\n",
      "p-value: 7.390623170519905e-05\n"
     ]
    }
   ],
   "source": [
    "houses_bounded_by_CR = boston_df[boston_df['CHAS'] == 1]['MEDV']\n",
    "houses_not_bounded_by_CR = boston_df[boston_df['CHAS'] == 0]['MEDV']\n",
    "\n",
    "t_statistic, p_value = stats.ttest_ind(houses_bounded_by_CR, houses_not_bounded_by_CR)\n",
    "\n",
    "print(\"Test Statistic:\", t_statistic)\n",
    "print(\"p-value:\", p_value)\n"
   ]
  },
  {
   "cell_type": "raw",
   "id": "125fcd97-3b28-4015-833e-b82e4ea1778b",
   "metadata": {
    "tags": []
   },
   "source": [
    "Hypotheses:\n",
    "\n",
    "Null Hypothesis (H0): There is no significant difference in the median value of houses bounded by the Charles River and those not bounded by the Charles River. (μ1 = μ2)\n",
    "Alternative Hypothesis (H1): There is a significant difference in the median value of houses bounded by the Charles River and those not bounded by the Charles River. (μ1 ≠ μ2)"
   ]
  },
  {
   "cell_type": "raw",
   "id": "f8564226-8e96-4a8c-89a4-7a9963b6660f",
   "metadata": {},
   "source": [
    "The results of the t-test indicate that there is a statistically significant difference in median house values between the two groups, and houses bounded by the Charles River tend to have higher median values."
   ]
  },
  {
   "cell_type": "markdown",
   "id": "9f346623-491e-4b92-b02b-cbf8d6a24d16",
   "metadata": {},
   "source": [
    "### Is there a difference in Median values of houses (MEDV) for each proportion of owner occupied units built prior to 1940 (AGE)? (ANOVA)"
   ]
  },
  {
   "cell_type": "code",
   "execution_count": 74,
   "id": "0c2e9828-d213-4668-b7cd-b77dafbc4c42",
   "metadata": {
    "tags": []
   },
   "outputs": [
    {
     "name": "stdout",
     "output_type": "stream",
     "text": [
      "F-statistic: 0.9840091646131573\n",
      "p-value: 0.5539698276810093\n"
     ]
    }
   ],
   "source": [
    "import scipy.stats as stats\n",
    "\n",
    "# Separate data into different groups based on AGE categories\n",
    "age_categories = boston_df['AGE'].unique()\n",
    "age_groups = [boston_df[boston_df['AGE'] == category]['MEDV'] for category in age_categories]\n",
    "\n",
    "# Perform ANOVA test\n",
    "f_statistic, p_value = stats.f_oneway(*age_groups)\n",
    "\n",
    "# Print the results\n",
    "print(\"F-statistic:\", f_statistic)\n",
    "print(\"p-value:\", p_value)\n"
   ]
  },
  {
   "cell_type": "raw",
   "id": "9f972320-3715-4ca2-953d-32e1039fa5de",
   "metadata": {},
   "source": [
    "Hypotheses:\n",
    "\n",
    "Null Hypothesis (H0): There is no significant difference in the median values of houses (MEDV) across different proportions of owner-occupied units built prior to 1940 (AGE) categories.\n",
    "Alternative Hypothesis (H1): There is a significant difference in the median values of houses (MEDV) across different proportions of owner-occupied units built prior to 1940 (AGE) categories."
   ]
  },
  {
   "cell_type": "raw",
   "id": "282c0f89-b3d7-4a56-9663-36a0c0c4aa6f",
   "metadata": {},
   "source": [
    "If p-value < α, conclude that there is a significant difference in the median values of houses (MEDV) across different proportions of owner-occupied units built prior to 1940 (AGE) categories."
   ]
  },
  {
   "cell_type": "markdown",
   "id": "47809966-2cfe-40a4-83d5-a22f8d9ff4d8",
   "metadata": {},
   "source": [
    "### Can we conclude that there is no relationship between Nitric oxide concentrations and proportion of non-retail business acres per town? (Pearson Correlation)"
   ]
  },
  {
   "cell_type": "code",
   "execution_count": 79,
   "id": "7a7c77db-e98c-4160-a1bb-fac207cbafe2",
   "metadata": {
    "tags": []
   },
   "outputs": [
    {
     "name": "stdout",
     "output_type": "stream",
     "text": [
      "Pearson Correlation Coefficient (r): 0.7636514469209149\n",
      "p-value: 7.913361061240043e-98\n"
     ]
    }
   ],
   "source": [
    "correlation_coefficient, p_value = stats.pearsonr(boston_df['NOX'], boston_df['INDUS'])\n",
    "\n",
    "print(\"Pearson Correlation Coefficient (r):\", correlation_coefficient)\n",
    "print(\"p-value:\", p_value)\n"
   ]
  },
  {
   "cell_type": "raw",
   "id": "9aa0fdce-3110-4108-89c4-75a382cabc5b",
   "metadata": {},
   "source": [
    "Hypotheses:\n",
    "\n",
    "Null Hypothesis (H0): There is no significant linear relationship between NOX and INDUS in the population (r = 0).\n",
    "Alternative Hypothesis (H1): There is a significant linear relationship between NOX and INDUS in the population (r ≠ 0)."
   ]
  },
  {
   "cell_type": "raw",
   "id": "9079425c-0e72-493a-a8fe-96041d9a3b19",
   "metadata": {},
   "source": [
    "If |r| is close to 0, it suggests a weak or no linear relationship.\n",
    "The p-value will determine whether the observed correlation is statistically significant."
   ]
  },
  {
   "cell_type": "markdown",
   "id": "62f5fbc7-e58f-4f6b-bd9e-3211d38953c2",
   "metadata": {},
   "source": [
    "### What is the impact of an additional weighted distance  to the five Boston employment centres on the median value of owner occupied homes? (Regression analysis)"
   ]
  },
  {
   "cell_type": "code",
   "execution_count": 80,
   "id": "896b162a-51e5-409a-b217-8ee0e3fc20c8",
   "metadata": {
    "tags": []
   },
   "outputs": [
    {
     "name": "stdout",
     "output_type": "stream",
     "text": [
      "                            OLS Regression Results                            \n",
      "==============================================================================\n",
      "Dep. Variable:                   MEDV   R-squared:                       0.062\n",
      "Model:                            OLS   Adj. R-squared:                  0.061\n",
      "Method:                 Least Squares   F-statistic:                     33.58\n",
      "Date:                Thu, 21 Sep 2023   Prob (F-statistic):           1.21e-08\n",
      "Time:                        13:21:38   Log-Likelihood:                -1823.9\n",
      "No. Observations:                 506   AIC:                             3652.\n",
      "Df Residuals:                     504   BIC:                             3660.\n",
      "Df Model:                           1                                         \n",
      "Covariance Type:            nonrobust                                         \n",
      "==============================================================================\n",
      "                 coef    std err          t      P>|t|      [0.025      0.975]\n",
      "------------------------------------------------------------------------------\n",
      "const         18.3901      0.817     22.499      0.000      16.784      19.996\n",
      "DIS            1.0916      0.188      5.795      0.000       0.722       1.462\n",
      "==============================================================================\n",
      "Omnibus:                      139.779   Durbin-Watson:                   0.570\n",
      "Prob(Omnibus):                  0.000   Jarque-Bera (JB):              305.104\n",
      "Skew:                           1.466   Prob(JB):                     5.59e-67\n",
      "Kurtosis:                       5.424   Cond. No.                         9.32\n",
      "==============================================================================\n",
      "\n",
      "Notes:\n",
      "[1] Standard Errors assume that the covariance matrix of the errors is correctly specified.\n"
     ]
    }
   ],
   "source": [
    "X = boston_df['DIS']  # Weighted distance to employment centers\n",
    "y = boston_df['MEDV']  # Median value of owner-occupied homes\n",
    "\n",
    "X = sm.add_constant(X)\n",
    "\n",
    "model = sm.OLS(y, X).fit()\n",
    "\n",
    "print(model.summary())"
   ]
  }
 ],
 "metadata": {
  "kernelspec": {
   "display_name": "Python 3 (ipykernel)",
   "language": "python",
   "name": "python3"
  },
  "language_info": {
   "codemirror_mode": {
    "name": "ipython",
    "version": 3
   },
   "file_extension": ".py",
   "mimetype": "text/x-python",
   "name": "python",
   "nbconvert_exporter": "python",
   "pygments_lexer": "ipython3",
   "version": "3.10.9"
  }
 },
 "nbformat": 4,
 "nbformat_minor": 5
}
